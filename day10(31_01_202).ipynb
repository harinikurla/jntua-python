{
  "nbformat": 4,
  "nbformat_minor": 0,
  "metadata": {
    "colab": {
      "name": "day10(31/01/202).ipynb",
      "provenance": [],
      "authorship_tag": "ABX9TyNmMnj/rAaPBytYZWIy16D8",
      "include_colab_link": true
    },
    "kernelspec": {
      "name": "python3",
      "display_name": "Python 3"
    }
  },
  "cells": [
    {
      "cell_type": "markdown",
      "metadata": {
        "id": "view-in-github",
        "colab_type": "text"
      },
      "source": [
        "<a href=\"https://colab.research.google.com/github/harinikurla/jntua-python/blob/master/day10(31_01_202).ipynb\" target=\"_parent\"><img src=\"https://colab.research.google.com/assets/colab-badge.svg\" alt=\"Open In Colab\"/></a>"
      ]
    },
    {
      "cell_type": "code",
      "metadata": {
        "id": "VJQSKuBh1mZ0",
        "colab_type": "code",
        "colab": {}
      },
      "source": [
        ""
      ],
      "execution_count": 0,
      "outputs": []
    },
    {
      "cell_type": "markdown",
      "metadata": {
        "id": "Q9NlZj4Y1sWf",
        "colab_type": "text"
      },
      "source": [
        "# LOOPS\n",
        "* WHILE\n",
        "* FOR\n"
      ]
    },
    {
      "cell_type": "code",
      "metadata": {
        "id": "J-fMW2uM1z0W",
        "colab_type": "code",
        "colab": {
          "base_uri": "https://localhost:8080/",
          "height": 141
        },
        "outputId": "bbd19623-851b-41c9-d6b7-8a3d6c141246"
      },
      "source": [
        "# print natural numbers upto n\n",
        "n=int(input(\"enter number\"))\n",
        "i=0\n",
        "while(i<n):\n",
        "  print(i)\n",
        "  i=i+1\n",
        "\n"
      ],
      "execution_count": 3,
      "outputs": [
        {
          "output_type": "stream",
          "text": [
            "enter number6\n",
            "0\n",
            "1\n",
            "2\n",
            "3\n",
            "4\n",
            "5\n"
          ],
          "name": "stdout"
        }
      ]
    },
    {
      "cell_type": "code",
      "metadata": {
        "id": "y4-ElP_U2XfS",
        "colab_type": "code",
        "colab": {
          "base_uri": "https://localhost:8080/",
          "height": 52
        },
        "outputId": "82b65f5a-8351-4f00-d576-5015e682191b"
      },
      "source": [
        "#print sum of even numbers upto n\n",
        "n=int(input(\"enter number\"))\n",
        "i=0\n",
        "s=0\n",
        "while(i<=n):\n",
        "  if(i%2==0):\n",
        "    s=s+i\n",
        "  i=i+1\n",
        "print(\"sum of even numbers is  \",s)"
      ],
      "execution_count": 7,
      "outputs": [
        {
          "output_type": "stream",
          "text": [
            "enter number10\n",
            "sum of even numbers is   30\n"
          ],
          "name": "stdout"
        }
      ]
    },
    {
      "cell_type": "code",
      "metadata": {
        "id": "3_UDmT2P3JJB",
        "colab_type": "code",
        "colab": {
          "base_uri": "https://localhost:8080/",
          "height": 70
        },
        "outputId": "7d4dd685-9168-4ce6-ec71-3840c1916a7f"
      },
      "source": [
        "#check palindrome or not\n",
        "n=int(input(\"enter number\"))\n",
        "m=n\n",
        "r=0\n",
        "rev=0\n",
        "while(n>0):\n",
        "  r=n%10\n",
        "  rev=rev*10+r\n",
        "  n=n//10\n",
        "if(rev==m):\n",
        "  print(rev,\"is palindrome\")\n",
        "else:\n",
        "  print(rev,\"is not palindrome\")\n",
        "print(rev)"
      ],
      "execution_count": 11,
      "outputs": [
        {
          "output_type": "stream",
          "text": [
            "enter number123\n",
            "321 is not palindrome\n",
            "321\n"
          ],
          "name": "stdout"
        }
      ]
    },
    {
      "cell_type": "code",
      "metadata": {
        "id": "Zjsd9mpx4RWw",
        "colab_type": "code",
        "colab": {}
      },
      "source": [
        "#\n"
      ],
      "execution_count": 0,
      "outputs": []
    },
    {
      "cell_type": "markdown",
      "metadata": {
        "id": "BKNhkFCz9QX9",
        "colab_type": "text"
      },
      "source": [
        "#Functional Programming\n",
        "\n",
        "*  Simple\n",
        "* Easy to Understand\n",
        "* Better Reusability\n",
        "*   lengthy programs will be divided into sub programs\n",
        "\n",
        "\n"
      ]
    },
    {
      "cell_type": "code",
      "metadata": {
        "id": "MH4z7kUu9wcK",
        "colab_type": "code",
        "colab": {
          "base_uri": "https://localhost:8080/",
          "height": 132
        },
        "outputId": "f072c419-2ff0-4542-c485-7b1695c34e47"
      },
      "source": [
        "def NameoftheFunction(<parameter>):\n",
        "    \n",
        "     * statements\n",
        "  \n",
        "  return"
      ],
      "execution_count": 14,
      "outputs": [
        {
          "output_type": "error",
          "ename": "SyntaxError",
          "evalue": "ignored",
          "traceback": [
            "\u001b[0;36m  File \u001b[0;32m\"<ipython-input-14-507d323532ee>\"\u001b[0;36m, line \u001b[0;32m1\u001b[0m\n\u001b[0;31m    def NameoftheFunction(<parameter>):\u001b[0m\n\u001b[0m                          ^\u001b[0m\n\u001b[0;31mSyntaxError\u001b[0m\u001b[0;31m:\u001b[0m invalid syntax\n"
          ]
        }
      ]
    },
    {
      "cell_type": "code",
      "metadata": {
        "id": "4NSlB2cU-PiV",
        "colab_type": "code",
        "colab": {
          "base_uri": "https://localhost:8080/",
          "height": 52
        },
        "outputId": "103629ed-ec01-43ea-ea7a-f93ba6112adb"
      },
      "source": [
        "#print sum of even numbers\n",
        "#n=int(input(\"enter number\"))\n",
        "r=0\n",
        "l=0\n",
        "def sumofevendigits(n):\n",
        "  s=0\n",
        "  while n!=0:\n",
        "    r=n%10\n",
        "    if r%2==0:\n",
        "      s=s+r\n",
        "    n=n//10\n",
        "  return s\n",
        "sumofevendigits(int(input(\"enter number\")))\n"
      ],
      "execution_count": 29,
      "outputs": [
        {
          "output_type": "stream",
          "text": [
            "enter number123\n"
          ],
          "name": "stdout"
        },
        {
          "output_type": "execute_result",
          "data": {
            "text/plain": [
              "2"
            ]
          },
          "metadata": {
            "tags": []
          },
          "execution_count": 29
        }
      ]
    },
    {
      "cell_type": "code",
      "metadata": {
        "id": "DHk_rCqWClcn",
        "colab_type": "code",
        "colab": {
          "base_uri": "https://localhost:8080/",
          "height": 52
        },
        "outputId": "231578c2-88ec-4b6c-d986-2588648f9d87"
      },
      "source": [
        "# find largest digit in a number\n",
        "\n",
        "def largestdigit(n):\n",
        "  l=0\n",
        "  r=0\n",
        "  while (n > 0):\n",
        "    r= n% 10\n",
        "    if (r > l):\n",
        "      l = r\n",
        "    n = n//10\n",
        "  return l\n",
        "largestdigit(int(input(\"enter\")))\n",
        "\n"
      ],
      "execution_count": 37,
      "outputs": [
        {
          "output_type": "stream",
          "text": [
            "enter04231765879\n"
          ],
          "name": "stdout"
        },
        {
          "output_type": "execute_result",
          "data": {
            "text/plain": [
              "9"
            ]
          },
          "metadata": {
            "tags": []
          },
          "execution_count": 37
        }
      ]
    },
    {
      "cell_type": "markdown",
      "metadata": {
        "id": "n10ntFukKBEI",
        "colab_type": "text"
      },
      "source": [
        "#FOR LOOP\n",
        "* for in range(start,stop,step):\n",
        "  \n",
        "  statements"
      ]
    },
    {
      "cell_type": "code",
      "metadata": {
        "id": "Q3BB4UEmKQ26",
        "colab_type": "code",
        "colab": {
          "base_uri": "https://localhost:8080/",
          "height": 34
        },
        "outputId": "0daaeff9-93bc-47c6-b033-434ca2ada1f5"
      },
      "source": [
        "# print number between range\n",
        "def printnum(a,b):\n",
        "  for i in range(a,b+1):\n",
        "    print(i,end=\" \")\n",
        "  return\n",
        "printnum(1,10)"
      ],
      "execution_count": 38,
      "outputs": [
        {
          "output_type": "stream",
          "text": [
            "1 2 3 4 5 6 7 8 9 10 "
          ],
          "name": "stdout"
        }
      ]
    },
    {
      "cell_type": "code",
      "metadata": {
        "id": "g25RF1NZLYFO",
        "colab_type": "code",
        "colab": {
          "base_uri": "https://localhost:8080/",
          "height": 34
        },
        "outputId": "e7f6ccc0-3e6a-4daa-da0b-db59f83f2bbe"
      },
      "source": [
        "def printnum(a,b):\n",
        "  for i in range(a,b+1,4):\n",
        "    print(i,end=\" \")\n",
        "  return\n",
        "printnum(23,45)"
      ],
      "execution_count": 40,
      "outputs": [
        {
          "output_type": "stream",
          "text": [
            "23 27 31 35 39 43 "
          ],
          "name": "stdout"
        }
      ]
    },
    {
      "cell_type": "markdown",
      "metadata": {
        "id": "3DWhHGjKNncq",
        "colab_type": "text"
      },
      "source": [
        "# COLLECTION TYPES\n",
        "* LIST\n",
        "* TUPLE\n",
        "* DICTIONARY"
      ]
    },
    {
      "cell_type": "markdown",
      "metadata": {
        "id": "BWUF1yhjN8U0",
        "colab_type": "text"
      },
      "source": [
        "#LIST\n",
        "- One of the data structure in python\n",
        "- Items in list are separated by comma and enclosed by square brackets\n",
        "- List is mutable(i.e,values can change)\n",
        "- ex:-\n",
        "- list1=[1,2,3,4,5]\n",
        "-list2=[\"jntua\",\"cse\"]\n",
        "\n"
      ]
    },
    {
      "cell_type": "code",
      "metadata": {
        "id": "tPEGw4sGOfHr",
        "colab_type": "code",
        "colab": {
          "base_uri": "https://localhost:8080/",
          "height": 141
        },
        "outputId": "abd9ec17-86a9-4efb-e93c-bca77cebee8b"
      },
      "source": [
        "li=[1,8,2,5,4]\n",
        "print(li)\n",
        "print(li[2])\n",
        "print(li[-3])\n",
        "print(li[2:])\n",
        "print(li[2:4])\n",
        "print(li[-3:-1])\n",
        "print(li[-4:-2])\n"
      ],
      "execution_count": 65,
      "outputs": [
        {
          "output_type": "stream",
          "text": [
            "[1, 8, 2, 5, 4]\n",
            "2\n",
            "2\n",
            "[2, 5, 4]\n",
            "[2, 5]\n",
            "[2, 5]\n",
            "[8, 2]\n"
          ],
          "name": "stdout"
        }
      ]
    },
    {
      "cell_type": "code",
      "metadata": {
        "id": "XnOov9CbRzvM",
        "colab_type": "code",
        "colab": {
          "base_uri": "https://localhost:8080/",
          "height": 70
        },
        "outputId": "4e85ab80-2042-4eaa-c27e-c5efd982d0c0"
      },
      "source": [
        "#update the list\n",
        "li=['jntua',8,'antpr',5,4]\n",
        "print(li)\n",
        "li[1]='154'\n",
        "print(li)\n",
        "del li[3]\n",
        "print(li)"
      ],
      "execution_count": 69,
      "outputs": [
        {
          "output_type": "stream",
          "text": [
            "['jntua', 8, 'antpr', 5, 4]\n",
            "['jntua', '154', 'antpr', 5, 4]\n",
            "['jntua', '154', 'antpr', 4]\n"
          ],
          "name": "stdout"
        }
      ]
    },
    {
      "cell_type": "code",
      "metadata": {
        "id": "bCtjonc6dIct",
        "colab_type": "code",
        "colab": {
          "base_uri": "https://localhost:8080/",
          "height": 87
        },
        "outputId": "d3caf02c-58f1-47d5-92ab-d716f3fd7880"
      },
      "source": [
        "#basic list operations\n",
        "li=[1,2,3,4]\n",
        "print(len(li))\n",
        "print(li*2)\n",
        "print(4 in li)\n",
        "print(6 in li)"
      ],
      "execution_count": 73,
      "outputs": [
        {
          "output_type": "stream",
          "text": [
            "4\n",
            "[1, 2, 3, 4, 1, 2, 3, 4]\n",
            "True\n",
            "False\n"
          ],
          "name": "stdout"
        }
      ]
    },
    {
      "cell_type": "markdown",
      "metadata": {
        "id": "2QkD8bpxd8eB",
        "colab_type": "text"
      },
      "source": [
        "#LIST FUNCTIONS\n",
        "* max\n",
        "* min\n",
        "* sum\n",
        "* append\n",
        "* insert\n",
        "* count\n",
        "* index\n",
        "* sort \n",
        "* pop\n",
        "\n"
      ]
    },
    {
      "cell_type": "code",
      "metadata": {
        "id": "mEslaBZHeWkJ",
        "colab_type": "code",
        "colab": {
          "base_uri": "https://localhost:8080/",
          "height": 158
        },
        "outputId": "63444c30-42c9-4d66-f170-41a627ca4856"
      },
      "source": [
        "li=[1,23,45,2,3,4,5]\n",
        "print(max(li))\n",
        "print(min(li))\n",
        "print(sum(li))\n",
        "print(sum(li)/len(li))\n",
        "li.append(6)\n",
        "li.insert(2,3)\n",
        "print(li.count(3))\n",
        "print(li.index(4))\n",
        "l=li.sort()\n",
        "print(li)\n",
        "li.pop()\n",
        "print(li)\n",
        "\n"
      ],
      "execution_count": 115,
      "outputs": [
        {
          "output_type": "stream",
          "text": [
            "45\n",
            "1\n",
            "83\n",
            "11.857142857142858\n",
            "2\n",
            "6\n",
            "[1, 2, 3, 3, 4, 5, 6, 23, 45]\n",
            "[1, 2, 3, 3, 4, 5, 6, 23]\n"
          ],
          "name": "stdout"
        }
      ]
    },
    {
      "cell_type": "code",
      "metadata": {
        "id": "l7ixsi2Si8Qy",
        "colab_type": "code",
        "colab": {
          "base_uri": "https://localhost:8080/",
          "height": 52
        },
        "outputId": "0429cb57-8136-4411-8c88-b02ecd7fae73"
      },
      "source": [
        "# using function return large number from the list\n",
        "def largenumber(li):\n",
        "  li.sort()\n",
        "  return li[-1]\n",
        "def genericlarge(li,n):\n",
        "  li.sort()\n",
        "  return li[n]\n",
        "li=[45,2,67,45,89,12]\n",
        "print(largenumber(li))\n",
        "print(genericlarge(li,-2))\n"
      ],
      "execution_count": 119,
      "outputs": [
        {
          "output_type": "stream",
          "text": [
            "89\n",
            "67\n"
          ],
          "name": "stdout"
        }
      ]
    },
    {
      "cell_type": "code",
      "metadata": {
        "id": "SSFC8tGrlH1b",
        "colab_type": "code",
        "colab": {
          "base_uri": "https://localhost:8080/",
          "height": 52
        },
        "outputId": "7dd48dbe-1dab-47a1-f625-20ecddd62b82"
      },
      "source": [
        "# using function return small number from the list\n",
        "def smallnumber(li):\n",
        "  li.sort()\n",
        "  return li[0]\n",
        "def genericsmall(li,n):\n",
        "  li.sort()\n",
        "  return li[n]\n",
        "li=[43,2,67,45,89,12]\n",
        "print(smallnumber(li))\n",
        "print(genericsmall(li,2))"
      ],
      "execution_count": 122,
      "outputs": [
        {
          "output_type": "stream",
          "text": [
            "2\n",
            "43\n"
          ],
          "name": "stdout"
        }
      ]
    },
    {
      "cell_type": "markdown",
      "metadata": {
        "id": "4jWv3QZInPA8",
        "colab_type": "text"
      },
      "source": [
        "#TUPLE\n",
        "- paranthesis() -->tuple and square\n"
      ]
    },
    {
      "cell_type": "code",
      "metadata": {
        "id": "x2ZyT2yqnYOr",
        "colab_type": "code",
        "colab": {}
      },
      "source": [
        ""
      ],
      "execution_count": 0,
      "outputs": []
    }
  ]
}