{
  "nbformat": 4,
  "nbformat_minor": 0,
  "metadata": {
    "colab": {
      "name": "day9(30/01/2020).ipynb",
      "provenance": [],
      "authorship_tag": "ABX9TyMHDN7CJr60DQlenGXBuTCX",
      "include_colab_link": true
    },
    "kernelspec": {
      "name": "python3",
      "display_name": "Python 3"
    }
  },
  "cells": [
    {
      "cell_type": "markdown",
      "metadata": {
        "id": "view-in-github",
        "colab_type": "text"
      },
      "source": [
        "<a href=\"https://colab.research.google.com/github/harinikurla/jntua-python/blob/master/day9(30_01_2020).ipynb\" target=\"_parent\"><img src=\"https://colab.research.google.com/assets/colab-badge.svg\" alt=\"Open In Colab\"/></a>"
      ]
    },
    {
      "cell_type": "code",
      "metadata": {
        "id": "sdKdDinY92OG",
        "colab_type": "code",
        "colab": {}
      },
      "source": [
        "-"
      ],
      "execution_count": 0,
      "outputs": []
    },
    {
      "cell_type": "markdown",
      "metadata": {
        "id": "NxuQcs9Z-HA-",
        "colab_type": "text"
      },
      "source": [
        "#markdown\n",
        "###markdown\n",
        "######markdown\n"
      ]
    },
    {
      "cell_type": "markdown",
      "metadata": {
        "id": "OaboB7-A-cQv",
        "colab_type": "text"
      },
      "source": [
        "**points**\n",
        "\n",
        "*points*\n",
        "\n",
        "***points***\n"
      ]
    },
    {
      "cell_type": "markdown",
      "metadata": {
        "id": "PuAVRoIBA7S2",
        "colab_type": "text"
      },
      "source": [
        "***adding links to markdown***\n",
        "\n",
        "*google sites---*\n",
        "\n",
        "[site](https://www.jntua.ac.in/)"
      ]
    },
    {
      "cell_type": "markdown",
      "metadata": {
        "id": "NOEmZtgVCrTf",
        "colab_type": "text"
      },
      "source": [
        ""
      ]
    },
    {
      "cell_type": "markdown",
      "metadata": {
        "id": "v55QrMlIC_C8",
        "colab_type": "text"
      },
      "source": [
        "###image\n",
        "![text](https://encrypted-tbn0.gstatic.com/images?q=tbn%3AANd9GcR1yzDp_lIdF3T4gnzHb9R8_o5InqGe6CdbM5a7ez1XgOEwpxll)\n"
      ]
    },
    {
      "cell_type": "markdown",
      "metadata": {
        "id": "JzJ14eYTG70c",
        "colab_type": "text"
      },
      "source": [
        ""
      ]
    },
    {
      "cell_type": "code",
      "metadata": {
        "id": "gsSdCw09IV3f",
        "colab_type": "code",
        "colab": {
          "base_uri": "https://localhost:8080/",
          "height": 51
        },
        "outputId": "e2ea3e24-2b09-4b4c-f9e6-4a292e3a6171"
      },
      "source": [
        "print('hello jntua')\n",
        "\n",
        "print(\"hello,jntu\",\"|||\",\"chemical\",\"|||\",\"cse\",\"|||\",\"mca\")\n"
      ],
      "execution_count": 3,
      "outputs": [
        {
          "output_type": "stream",
          "text": [
            "hello jntua\n",
            "hello,jntu ||| chemical ||| cse ||| mca\n"
          ],
          "name": "stdout"
        }
      ]
    },
    {
      "cell_type": "markdown",
      "metadata": {
        "id": "gBaHTOmOJXwG",
        "colab_type": "text"
      },
      "source": [
        "#ASSIGNMENT\n"
      ]
    },
    {
      "cell_type": "code",
      "metadata": {
        "id": "iUeBvKnUIpnf",
        "colab_type": "code",
        "colab": {
          "base_uri": "https://localhost:8080/",
          "height": 68
        },
        "outputId": "54469890-1c42-491a-b16e-7ae6cea14260"
      },
      "source": [
        "n1=100 #single variable\n",
        "n1\n",
        "a=b=c=10 #multiple variaqble assignment\n",
        "print(a,b,c)\n",
        "print(n1)\n",
        "a1,b1,c1=100,200,300 #multiple variaqble assignment with different values\n",
        "print(a1,b1,c1)\n"
      ],
      "execution_count": 9,
      "outputs": [
        {
          "output_type": "stream",
          "text": [
            "10 10 10\n",
            "100\n",
            "100 200 300\n"
          ],
          "name": "stdout"
        }
      ]
    },
    {
      "cell_type": "markdown",
      "metadata": {
        "id": "vAZt63a1Kg2z",
        "colab_type": "text"
      },
      "source": [
        "#DATA TYPES AND CONVERSIONS\n",
        "*   INT\n",
        "*   FLOAT\n",
        "*   STRING\n",
        "\n",
        "\n",
        "\n",
        "\n"
      ]
    },
    {
      "cell_type": "code",
      "metadata": {
        "id": "zQDL2-WkLKjq",
        "colab_type": "code",
        "colab": {
          "base_uri": "https://localhost:8080/",
          "height": 34
        },
        "outputId": "60dcd42c-f153-44e2-f170-219a5f4996fd"
      },
      "source": [
        "a=100\n",
        "s1=10.2\n",
        "s2=\"python\"\n",
        "print(type(a),type(s1),type(s2))\n"
      ],
      "execution_count": 12,
      "outputs": [
        {
          "output_type": "stream",
          "text": [
            "<class 'int'> <class 'float'> <class 'str'>\n"
          ],
          "name": "stdout"
        }
      ]
    },
    {
      "cell_type": "code",
      "metadata": {
        "id": "P2Sq7aJSL3oE",
        "colab_type": "code",
        "colab": {
          "base_uri": "https://localhost:8080/",
          "height": 68
        },
        "outputId": "d399f4a5-010f-4e3f-d386-2faa1551f0d7"
      },
      "source": [
        "i=100\n",
        "print(type(i))\n",
        "s1=str(i)\n",
        "print(type(s1))\n",
        "f1=float(i)\n",
        "print(type(f1))"
      ],
      "execution_count": 15,
      "outputs": [
        {
          "output_type": "stream",
          "text": [
            "<class 'int'>\n",
            "<class 'str'>\n",
            "<class 'float'>\n"
          ],
          "name": "stdout"
        }
      ]
    },
    {
      "cell_type": "code",
      "metadata": {
        "id": "3Nsy4kJ6Mv6w",
        "colab_type": "code",
        "colab": {
          "base_uri": "https://localhost:8080/",
          "height": 34
        },
        "outputId": "029b4236-07ed-40ca-b674-629e1d057e25"
      },
      "source": [
        "# length\n",
        "a=123456\n",
        "print(len(str(a)))"
      ],
      "execution_count": 18,
      "outputs": [
        {
          "output_type": "stream",
          "text": [
            "6\n"
          ],
          "name": "stdout"
        }
      ]
    },
    {
      "cell_type": "code",
      "metadata": {
        "id": "78wQEHC1NbO_",
        "colab_type": "code",
        "colab": {
          "base_uri": "https://localhost:8080/",
          "height": 51
        },
        "outputId": "5a7fdd86-abf9-4dd3-c253-c69851d2e6f3"
      },
      "source": [
        "# reading input from user\n",
        "a=input(\"enter id\")\n",
        "print(a)"
      ],
      "execution_count": 22,
      "outputs": [
        {
          "output_type": "stream",
          "text": [
            "enter id1dfef\n",
            "1dfef\n"
          ],
          "name": "stdout"
        }
      ]
    },
    {
      "cell_type": "markdown",
      "metadata": {
        "id": "MxG1XUauPLtQ",
        "colab_type": "text"
      },
      "source": [
        "#OPERATORS\n",
        "\n",
        "\n",
        "*   operators is symbol used to perform specific kind of operations\n",
        "*   Arithmetic operators:\n",
        "    * +\n",
        "    * -\n",
        "    * *\n",
        "    * /\n",
        "    * %\n",
        "    * //\n",
        "    \n",
        "\n",
        "\n",
        "\n"
      ]
    },
    {
      "cell_type": "code",
      "metadata": {
        "id": "cDDF31ZoP5Kv",
        "colab_type": "code",
        "colab": {
          "base_uri": "https://localhost:8080/",
          "height": 136
        },
        "outputId": "f72673c6-6efd-4c7a-c37b-59aff4cc5c94"
      },
      "source": [
        "a=1234\n",
        "print(a+10)\n",
        "print(a-10)\n",
        "print(a*10)\n",
        "print(a/10)\n",
        "print(a//10)\n",
        "print(a%10)\n",
        "print(a**10)"
      ],
      "execution_count": 23,
      "outputs": [
        {
          "output_type": "stream",
          "text": [
            "1244\n",
            "1224\n",
            "12340\n",
            "123.4\n",
            "123\n",
            "4\n",
            "8187505353567209228244052427776\n"
          ],
          "name": "stdout"
        }
      ]
    },
    {
      "cell_type": "markdown",
      "metadata": {
        "id": "JYy7wY9WR99d",
        "colab_type": "text"
      },
      "source": [
        "#Relational operators\n",
        "* =\n",
        "* ==\n",
        "* !=\n",
        "*  <\n",
        "* '>'\n",
        "* <=\n",
        "* '>'=\n"
      ]
    },
    {
      "cell_type": "code",
      "metadata": {
        "id": "qDXTJsvrSMZ7",
        "colab_type": "code",
        "colab": {
          "base_uri": "https://localhost:8080/",
          "height": 34
        },
        "outputId": "774e7a67-a386-408e-fc73-86c376cf8fc4"
      },
      "source": [
        "x=10\n",
        "a1=x>15\n",
        "print(a1)"
      ],
      "execution_count": 25,
      "outputs": [
        {
          "output_type": "stream",
          "text": [
            "False\n"
          ],
          "name": "stdout"
        }
      ]
    },
    {
      "cell_type": "markdown",
      "metadata": {
        "id": "Qbpr8snNS33H",
        "colab_type": "text"
      },
      "source": [
        "# Logical Operators\n",
        "* AND\n",
        "* OR\n",
        "* NOT\n"
      ]
    },
    {
      "cell_type": "code",
      "metadata": {
        "id": "HvmyMZFsTNWe",
        "colab_type": "code",
        "colab": {
          "base_uri": "https://localhost:8080/",
          "height": 68
        },
        "outputId": "3d13d59d-b48c-4813-9cde-0e64883bb620"
      },
      "source": [
        "i=100\n",
        "a1=(i>15)and(i<8)\n",
        "a2=(i>15)or(i>800)\n",
        "i=not 100\n",
        "print(a1)\n",
        "print(a2)\n",
        "print(i)"
      ],
      "execution_count": 29,
      "outputs": [
        {
          "output_type": "stream",
          "text": [
            "False\n",
            "True\n",
            "False\n"
          ],
          "name": "stdout"
        }
      ]
    },
    {
      "cell_type": "markdown",
      "metadata": {
        "id": "2VVApIWfUmSY",
        "colab_type": "text"
      },
      "source": [
        "# Control statements\n",
        "* conditional statements\n",
        "* looping statements\n"
      ]
    },
    {
      "cell_type": "code",
      "metadata": {
        "id": "2AGYJak2UySc",
        "colab_type": "code",
        "colab": {}
      },
      "source": [
        ""
      ],
      "execution_count": 0,
      "outputs": []
    },
    {
      "cell_type": "markdown",
      "metadata": {
        "id": "HTE19XJxVCTe",
        "colab_type": "text"
      },
      "source": [
        "# IF-ELSE CONDITION\n",
        "## Syntax\n",
        "if boolean condition :\n",
        "\n",
        "       statements\n",
        "  else:\n",
        "\n",
        "     statements"
      ]
    },
    {
      "cell_type": "code",
      "metadata": {
        "id": "fZD5fIQFVkt0",
        "colab_type": "code",
        "colab": {
          "base_uri": "https://localhost:8080/",
          "height": 51
        },
        "outputId": "d02358c0-63fc-4aaf-f5f7-ed8d713317e4"
      },
      "source": [
        "n=int(input(\"enter number\"))\n",
        "if n%2==0:\n",
        "  print(n,\"is a even number\")\n",
        "else:\n",
        "  print(n,\"is a odd number\")"
      ],
      "execution_count": 38,
      "outputs": [
        {
          "output_type": "stream",
          "text": [
            "enter number6\n",
            "6 is a even number\n"
          ],
          "name": "stdout"
        }
      ]
    },
    {
      "cell_type": "markdown",
      "metadata": {
        "id": "wZdR_w5sW4Kr",
        "colab_type": "text"
      },
      "source": [
        "## to check given number is multiples of 3 and 5\n"
      ]
    },
    {
      "cell_type": "code",
      "metadata": {
        "id": "CGluEkFyXHSp",
        "colab_type": "code",
        "colab": {
          "base_uri": "https://localhost:8080/",
          "height": 51
        },
        "outputId": "18f87aed-a13f-4dd8-f8e6-6ab5d419d437"
      },
      "source": [
        "n=int(input(\"enter number:\"))\n",
        "if (n%3==0) and(n%5==0):\n",
        "  print(n ,\"is multiples of 3 and 5\")\n",
        "else:\n",
        "  print(n ,\"is not multiples of 3 and 5\")"
      ],
      "execution_count": 36,
      "outputs": [
        {
          "output_type": "stream",
          "text": [
            "enter number:45\n",
            "45 is multiples of 3 and 5\n"
          ],
          "name": "stdout"
        }
      ]
    },
    {
      "cell_type": "code",
      "metadata": {
        "id": "POSEh3ZxXeIy",
        "colab_type": "code",
        "colab": {
          "base_uri": "https://localhost:8080/",
          "height": 51
        },
        "outputId": "c46bac26-58cb-426b-b29b-d54c62350188"
      },
      "source": [
        "# check given number is positive or not\n",
        "n=int(input(\"enter number\"))\n",
        "if n>=0:\n",
        "  print(n,\"is a positive number\")\n",
        "else:\n",
        "  print(n,\" is negative number\")"
      ],
      "execution_count": 40,
      "outputs": [
        {
          "output_type": "stream",
          "text": [
            "enter number-2\n",
            "-2  is negative number\n"
          ],
          "name": "stdout"
        }
      ]
    },
    {
      "cell_type": "code",
      "metadata": {
        "id": "UlGtrimLaG1x",
        "colab_type": "code",
        "colab": {
          "base_uri": "https://localhost:8080/",
          "height": 85
        },
        "outputId": "de81442c-1fea-4a0f-ddf5-bdfae4c1d2ae"
      },
      "source": [
        "# find largest of 3 numbers\n",
        "a=int(input(\"enter a=\"))\n",
        "b=int(input(\"enter b=\"))\n",
        "c=int(input(\"enter c=\"))\n",
        "if a>b :\n",
        "  if a>c:\n",
        "    print(a,\"is largest\")\n",
        "  else:\n",
        "    print(c,\"is largest\")\n",
        "else:\n",
        "  print(b,\" is largest\")\n",
        "\n"
      ],
      "execution_count": 42,
      "outputs": [
        {
          "output_type": "stream",
          "text": [
            "enter a=3\n",
            "enter b=6\n",
            "enter c=1\n",
            "6  is largest\n"
          ],
          "name": "stdout"
        }
      ]
    },
    {
      "cell_type": "code",
      "metadata": {
        "id": "_wIFJgXrbiOI",
        "colab_type": "code",
        "colab": {
          "base_uri": "https://localhost:8080/",
          "height": 51
        },
        "outputId": "86c45df2-2127-4ec1-bca6-048264fb1d3f"
      },
      "source": [
        "# check given year is leap year or not\n",
        "x=int(input(\"enter year\"))\n",
        "if ((x%400==0)and(x%100==0))or(x%4==0):\n",
        "  print(x,\"is a leap year\")\n",
        "else:\n",
        "  print(x,\"is not a leap year\")\n"
      ],
      "execution_count": 50,
      "outputs": [
        {
          "output_type": "stream",
          "text": [
            "enter year1900\n",
            "1900 is a leap year\n"
          ],
          "name": "stdout"
        }
      ]
    }
  ]
}